{
  "nbformat": 4,
  "nbformat_minor": 0,
  "metadata": {
    "colab": {
      "name": "project_clustering.ipynb",
      "provenance": [],
      "collapsed_sections": []
    },
    "kernelspec": {
      "name": "python3",
      "display_name": "Python 3"
    },
    "language_info": {
      "name": "python"
    }
  },
  "cells": [
    {
      "cell_type": "markdown",
      "source": [
        "Importing Libraries"
      ],
      "metadata": {
        "id": "Kgn5QOASG7V0"
      }
    },
    {
      "cell_type": "code",
      "source": [
        "pip install scikit-learn-extra"
      ],
      "metadata": {
        "colab": {
          "base_uri": "https://localhost:8080/"
        },
        "id": "4z96-od2Q3ni",
        "outputId": "4bcdbdca-1abe-4173-93d7-efc007a35511"
      },
      "execution_count": 66,
      "outputs": [
        {
          "output_type": "stream",
          "name": "stdout",
          "text": [
            "Looking in indexes: https://pypi.org/simple, https://us-python.pkg.dev/colab-wheels/public/simple/\n",
            "Requirement already satisfied: scikit-learn-extra in /usr/local/lib/python3.7/dist-packages (0.2.0)\n",
            "Requirement already satisfied: scipy>=0.19.1 in /usr/local/lib/python3.7/dist-packages (from scikit-learn-extra) (1.4.1)\n",
            "Requirement already satisfied: numpy>=1.13.3 in /usr/local/lib/python3.7/dist-packages (from scikit-learn-extra) (1.21.6)\n",
            "Requirement already satisfied: scikit-learn>=0.23.0 in /usr/local/lib/python3.7/dist-packages (from scikit-learn-extra) (1.0.2)\n",
            "Requirement already satisfied: joblib>=0.11 in /usr/local/lib/python3.7/dist-packages (from scikit-learn>=0.23.0->scikit-learn-extra) (1.1.0)\n",
            "Requirement already satisfied: threadpoolctl>=2.0.0 in /usr/local/lib/python3.7/dist-packages (from scikit-learn>=0.23.0->scikit-learn-extra) (3.1.0)\n"
          ]
        }
      ]
    },
    {
      "cell_type": "code",
      "source": [
        "from IPython.display import Audio, display\n",
        "import pandas as pd\n",
        "import soundfile as sf\n",
        "import os\n",
        "from os import listdir\n",
        "from os.path import isfile, join\n",
        "import shutil\n",
        "from google.colab import drive\n",
        "import copy\n",
        "import sklearn\n",
        "from sklearn.preprocessing import minmax_scale\n",
        "import numpy as np\n",
        "import json\n",
        "import librosa\n",
        "import librosa.display\n",
        "from numpy.lib.utils import source\n",
        "import pandas as pd\n",
        "import matplotlib.pyplot as plt\n",
        "from tqdm import tqdm\n",
        "from sklearn.impute import SimpleImputer\n",
        "import seaborn as sns\n",
        "from sklearn.cluster import KMeans\n",
        "from sklearn.preprocessing import StandardScaler , normalize\n",
        "from sklearn.metrics import silhouette_samples, silhouette_score\n",
        "from sklearn.cluster import SpectralClustering\n",
        "from sklearn_extra.cluster import KMedoids\n",
        "import matplotlib.cm as cm\n",
        "from sklearn import metrics"
      ],
      "metadata": {
        "id": "AeKj-hobTmXz"
      },
      "execution_count": 67,
      "outputs": []
    },
    {
      "cell_type": "markdown",
      "source": [
        "Loading data and cleansing bad datas"
      ],
      "metadata": {
        "id": "wPyOuE4hHAJH"
      }
    },
    {
      "cell_type": "code",
      "execution_count": 68,
      "metadata": {
        "colab": {
          "base_uri": "https://localhost:8080/"
        },
        "id": "X3Ige0X9Tdqv",
        "outputId": "f05ebecd-7c5a-43ad-f505-bb4e8a047172"
      },
      "outputs": [
        {
          "output_type": "stream",
          "name": "stdout",
          "text": [
            "Drive already mounted at /content/gdrive; to attempt to forcibly remount, call drive.mount(\"/content/gdrive\", force_remount=True).\n",
            "Drive already mounted at /content/gdrive; to attempt to forcibly remount, call drive.mount(\"/content/gdrive\", force_remount=True).\n"
          ]
        }
      ],
      "source": [
        "drive.mount('/content/gdrive')\n",
        "dataset1 = pd.read_csv('/content/gdrive/My Drive/ML/Final Project/Audio_Dataset.csv')\n",
        "dataset2 = pd.read_csv('/content/gdrive/My Drive/ML/Final Project/dataV2.csv')\n",
        "voice_names_str = dataset1.song_name.values\n",
        "X_total = dataset1.iloc[:, 1:].values\n",
        "emotions = dataset2.emotionID.values\n",
        "gender = dataset2.sex.values\n",
        "sentences=dataset2.textID.values\n",
        "voice_names_total = np.array([int(x[:-4]) for x in voice_names_str])\n",
        "voice_id = dataset2['voice id'].values\n",
        "X = []\n",
        "voice_names = []\n",
        "for i, name in enumerate(voice_names_total):\n",
        "  if name in voice_id:\n",
        "    X.append(X_total[i, :])\n",
        "    voice_names.append(name)\n",
        "\n",
        "X = np.array(X)\n",
        "voice_names = np.array(voice_names)\n",
        "\n",
        "\n",
        "y_emotions = []\n",
        "y_gender_str = []\n",
        "y_sentences=[]\n",
        "for i, name in enumerate(voice_names):\n",
        "  y_emotions.append(emotions[np.where(voice_id == name)][0])\n",
        "  y_gender_str.append(gender[np.where(voice_id == name)][0].lower())\n",
        "  y_sentences.append(sentences[np.where(voice_id == name)][0])\n",
        "\n",
        "y_emotions = np.array(y_emotions)\n",
        "y_sentences=np.array( y_sentences)\n",
        "drive.mount('/content/gdrive')\n",
        "dataset1 = pd.read_csv('/content/gdrive/My Drive/ML/Final Project/Audio_Dataset.csv')\n",
        "dataset2 = pd.read_csv('/content/gdrive/My Drive/ML/Final Project/dataV2.csv')\n",
        "y_gender_str = np.array(y_gender_str)\n",
        "y_gender = np.zeros(y_gender_str.shape)\n",
        "y_gender[y_gender_str == 'f'] = 1\n",
        "\n",
        "idx_to_delete = np.where(y_emotions > 4)\n",
        "X = np.delete(X, idx_to_delete, axis = 0)\n",
        "y_emotions = np.delete(y_emotions, idx_to_delete, axis = 0)\n",
        "y_gender = np.delete(y_gender, idx_to_delete, axis = 0)\n",
        "y_sentences=np.delete(y_sentences, idx_to_delete, axis = 0)\n",
        "idx_to_delete = np.where(y_sentences== 0)\n",
        "X = np.delete(X, idx_to_delete, axis = 0)\n",
        "y_emotions = np.delete(y_emotions, idx_to_delete, axis = 0)\n",
        "y_gender = np.delete(y_gender, idx_to_delete, axis = 0)\n",
        "y_sentences=np.delete(y_sentences, idx_to_delete, axis = 0)\n",
        "imputer = SimpleImputer(missing_values=np.nan, strategy='mean')\n",
        "imputer.fit(X)\n",
        "X = imputer.transform(X)"
      ]
    },
    {
      "cell_type": "markdown",
      "source": [
        "scaling feature vector"
      ],
      "metadata": {
        "id": "9vve9AzEHFuu"
      }
    },
    {
      "cell_type": "code",
      "source": [
        "scaler = StandardScaler()\n",
        "scaled_features = scaler.fit_transform(X)"
      ],
      "metadata": {
        "id": "eBe7x0lxTrRQ"
      },
      "execution_count": 69,
      "outputs": []
    },
    {
      "cell_type": "markdown",
      "source": [
        "we have 10 different sentences with 4 type of emotions so each participant has approximately 40 different voices so all in all number of participants is approximately equal to number of all voices to 40\n"
      ],
      "metadata": {
        "id": "OgkJ8YuhHwPt"
      }
    },
    {
      "cell_type": "code",
      "source": [
        "participant_no=len(X)/(10*4)"
      ],
      "metadata": {
        "id": "MY_z2pyWhXa1"
      },
      "execution_count": 70,
      "outputs": []
    },
    {
      "cell_type": "markdown",
      "source": [
        "**Clustering using K-Means method**"
      ],
      "metadata": {
        "id": "6fulyKMXLYK6"
      }
    },
    {
      "cell_type": "code",
      "source": [
        "kmeans_1 = KMeans(init=\"random\",n_clusters=2,n_init=10,max_iter=300,random_state=42)\n",
        "kmeans_1.fit(scaled_features)\n",
        "kmeans_2 = KMeans(init=\"random\",n_clusters=4,n_init=10,max_iter=300,random_state=42)\n",
        "kmeans_2.fit(scaled_features)\n",
        "kmeans_3 = KMeans(init=\"random\",n_clusters=10,n_init=10,max_iter=300,random_state=42)\n",
        "kmeans_3.fit(scaled_features)\n",
        "kmeans_4 = KMeans(init=\"random\",n_clusters=int(np.floor(participant_no)),n_init=10,max_iter=300,random_state=42)\n",
        "kmeans_4.fit(scaled_features)"
      ],
      "metadata": {
        "colab": {
          "base_uri": "https://localhost:8080/"
        },
        "id": "LXs7jSNcVrFR",
        "outputId": "0ab5fb1d-1e24-467a-8e8b-6b1b17208df3"
      },
      "execution_count": 71,
      "outputs": [
        {
          "output_type": "execute_result",
          "data": {
            "text/plain": [
              "KMeans(init='random', n_clusters=399, random_state=42)"
            ]
          },
          "metadata": {},
          "execution_count": 71
        }
      ]
    },
    {
      "cell_type": "markdown",
      "source": [
        "**Clustering using K-Medoids Clustering method**"
      ],
      "metadata": {
        "id": "mARuWwIHLihX"
      }
    },
    {
      "cell_type": "code",
      "source": [
        "kmedoids_1 = KMedoids(n_clusters=2, random_state=42)\n",
        "kmedoids_1.fit(scaled_features)\n",
        "kmedoids_2 = KMedoids(n_clusters=4, random_state=42)\n",
        "kmedoids_2.fit(scaled_features)\n",
        "kmedoids_3 = KMedoids(n_clusters=10, random_state=42)\n",
        "kmedoids_3.fit(scaled_features)\n",
        "kmedoids_4 = KMedoids(n_clusters=int(np.floor(participant_no)), random_state=0)\n",
        "kmedoids_4.fit(scaled_features)"
      ],
      "metadata": {
        "colab": {
          "base_uri": "https://localhost:8080/"
        },
        "id": "ziWpti3qLiN7",
        "outputId": "989b47d6-f297-441a-9c40-5f14ddca9551"
      },
      "execution_count": 72,
      "outputs": [
        {
          "output_type": "stream",
          "name": "stderr",
          "text": [
            "/usr/local/lib/python3.7/dist-packages/sklearn_extra/cluster/_k_medoids.py:279: UserWarning: Cluster 306 is empty! self.labels_[self.medoid_indices_[306]] may not be labeled with its corresponding cluster (306).\n",
            "  \"its corresponding cluster ({k}).\".format(k=k)\n"
          ]
        },
        {
          "output_type": "execute_result",
          "data": {
            "text/plain": [
              "KMedoids(n_clusters=399, random_state=0)"
            ]
          },
          "metadata": {},
          "execution_count": 72
        }
      ]
    },
    {
      "cell_type": "markdown",
      "source": [
        "Calculating Gender error for both k-means and k-medoids method\n"
      ],
      "metadata": {
        "id": "nYHtydNRVZ3l"
      }
    },
    {
      "cell_type": "code",
      "source": [
        "gender_error_kmeans=100*sum(y_gender-kmeans_1.labels_)/len(X)\n",
        "gender_error_kmedoids=100*sum(y_gender-kmedoids_1.labels_)/len(X)"
      ],
      "metadata": {
        "id": "xx9AmEDlm5ds"
      },
      "execution_count": 73,
      "outputs": []
    },
    {
      "cell_type": "markdown",
      "source": [
        "Calculating emotion error for both k-means and k-medoids method\n"
      ],
      "metadata": {
        "id": "ebMz5qkaVx9B"
      }
    },
    {
      "cell_type": "code",
      "source": [
        "y_emotion_cluster_kmeans=kmeans_2.labels_+1\n",
        "y_emotion_cluster_kmedoids=kmedoids_2.labels_+1\n",
        "total_emotions=np.unique(y_emotions)\n",
        "real_emotions=np.zeros(len(total_emotions), dtype=int)\n",
        "clustered_emotions_kmeans=np.zeros(len(total_emotions), dtype=int)\n",
        "clustered_emotions_kmedoids=np.zeros(len(total_emotions), dtype=int)\n",
        "for i,y in enumerate(y_emotions):\n",
        "  for k,j in enumerate(total_emotions):\n",
        "    if(y==j):\n",
        "     real_emotions[k]+=1 \n",
        "for i,y in enumerate(y_emotion_cluster_kmeans):\n",
        " for k,j in enumerate(total_emotions):\n",
        "    if(y==j):\n",
        "     clustered_emotions_kmeans[k]+=1\n",
        "for i,y in enumerate(y_emotion_cluster_kmedoids):\n",
        " for k,j in enumerate(total_emotions):\n",
        "    if(y==j):\n",
        "     clustered_emotions_kmedoids[k]+=1 \n",
        "er_kmeans=real_emotions-clustered_emotions_kmeans\n",
        "er_kmedoids=real_emotions-clustered_emotions_kmedoids\n",
        "emotions_error_kmeans=0\n",
        "emotions_error_kmedoids=0\n",
        "for i in er_kmeans:\n",
        "  if(i>0):\n",
        "    emotions_error_kmeans+=i\n",
        "for i in er_kmedoids:\n",
        "  if(i>0):\n",
        "    emotions_error_kmedoids+=i  \n",
        "emotions_error_kmeans=100*emotions_error_kmeans/len(X)\n",
        "emotions_error_kmedoids=100*emotions_error_kmedoids/len(X)"
      ],
      "metadata": {
        "id": "DyNmg4C5xSPh"
      },
      "execution_count": 74,
      "outputs": []
    },
    {
      "cell_type": "markdown",
      "source": [
        "Calculating sentences error for both k-means and k-medoids method\n"
      ],
      "metadata": {
        "id": "qhuZTXZ_WEL4"
      }
    },
    {
      "cell_type": "code",
      "source": [
        "y_sentences_cluster_kmeans=kmeans_3.labels_+1\n",
        "y_sentences_cluster_kmedoids=kmedoids_3.labels_+1\n",
        "total_sentences=np.unique(y_sentences)\n",
        "real_sentences=np.zeros(len(total_sentences), dtype=int)\n",
        "clustered_sentences_kmeans=np.zeros(len(total_sentences), dtype=int)\n",
        "clustered_sentences_kmedoids=np.zeros(len(total_sentences), dtype=int)\n",
        "for i,y in enumerate(y_sentences):\n",
        "  for k,j in enumerate(total_sentences):\n",
        "    if(y==j):\n",
        "     real_sentences[k]+=1 \n",
        "for i,y in enumerate(y_emotion_cluster_kmeans):\n",
        " for k,j in enumerate(total_sentences):\n",
        "    if(y==j):\n",
        "     clustered_sentences_kmeans[k]+=1\n",
        "for i,y in enumerate(y_emotion_cluster_kmedoids):\n",
        " for k,j in enumerate(total_sentences):\n",
        "    if(y==j):\n",
        "     clustered_sentences_kmedoids[k]+=1 \n",
        "er_kmeans=real_sentences-clustered_sentences_kmeans\n",
        "er_kmedoids=real_sentences-clustered_sentences_kmedoids\n",
        "sentences_error_kmeans=0\n",
        "sentences_error_kmedoids=0\n",
        "for i in er_kmeans:\n",
        "  if(i>0):\n",
        "    sentences_error_kmeans+=i\n",
        "for i in er_kmedoids:\n",
        "  if(i>0):\n",
        "    sentences_error_kmedoids+=i \n",
        "sentences_error_kmeans=100*sentences_error_kmeans/len(X)\n",
        "sentences_error_kmedoids=100*sentences_error_kmedoids/len(X)      "
      ],
      "metadata": {
        "id": "u3--OHQv3hnG"
      },
      "execution_count": 75,
      "outputs": []
    },
    {
      "cell_type": "markdown",
      "source": [
        "Calculating participants error for both k-means and k-medoids method\n"
      ],
      "metadata": {
        "id": "hs6OFTKHWrNT"
      }
    },
    {
      "cell_type": "code",
      "source": [
        "y_participants_kmeans=kmeans_4.labels_+1\n",
        "y_participants_kmedoids=kmedoids_4.labels_+1\n",
        "total_participants=np.unique(y_participants_kmeans)\n",
        "real_participants=40*np.ones(len(total_participants),dtype=int)\n",
        "clustered_participants_kmeans=np.zeros(len(total_participants), dtype=int)\n",
        "clustered_participants_kmedoids=np.zeros(len(total_participants), dtype=int)\n",
        "for i,y in enumerate(y_participants_kmeans):\n",
        " for k,j in enumerate(total_participants):\n",
        "    if(y==j):\n",
        "     clustered_participants_kmeans[k]+=1\n",
        "for i,y in enumerate(y_participants_kmedoids):\n",
        " for k,j in enumerate(total_participants):\n",
        "    if(y==j):\n",
        "     clustered_participants_kmedoids[k]+=1     \n",
        "er_kmeans=real_participants-clustered_participants_kmeans\n",
        "er_kmedoids=real_participants-clustered_participants_kmedoids\n",
        "participants_error_kmeans=0\n",
        "participants_error_kmedoids=0\n",
        "for i in er_kmeans:\n",
        "  if(i>0):\n",
        "    participants_error_kmeans+=i\n",
        "for i in er_kmedoids:\n",
        "  if(i>0):\n",
        "    participants_error_kmedoids+=i\n",
        "participants_error_kmeans=100*participants_error_kmeans/len(X)\n",
        "participants_error_kmedoids=100*participants_error_kmedoids/len(X)    "
      ],
      "metadata": {
        "id": "c0bjiA378LAh"
      },
      "execution_count": 76,
      "outputs": []
    },
    {
      "cell_type": "code",
      "source": [
        "from tabulate import tabulate"
      ],
      "metadata": {
        "id": "BN2OOel1X0cM"
      },
      "execution_count": 77,
      "outputs": []
    },
    {
      "cell_type": "code",
      "source": [
        "table_1=[['type of error','K-means','K-medoids'],\n",
        "       ['error in gender',gender_error_kmeans,gender_error_kmedoids],\n",
        "       ['error in emotions',emotions_error_kmeans,emotions_error_kmedoids],\n",
        "       ['error in sentences',sentences_error_kmeans,sentences_error_kmedoids],\n",
        "       ['error in participants',participants_error_kmeans,participants_error_kmedoids]]"
      ],
      "metadata": {
        "id": "0omOh3SJYfqE"
      },
      "execution_count": 78,
      "outputs": []
    },
    {
      "cell_type": "markdown",
      "source": [
        "error table: number of wrong prediction(clustering with label) to total number of length of feature vector in percents"
      ],
      "metadata": {
        "id": "8BtHNnmJlQHH"
      }
    },
    {
      "cell_type": "code",
      "source": [
        "print(tabulate(table_1, headers='firstrow', tablefmt='fancy_grid'))"
      ],
      "metadata": {
        "colab": {
          "base_uri": "https://localhost:8080/"
        },
        "id": "lMIrgd19aZTA",
        "outputId": "2bebe390-05f4-4173-be3c-57814892f958"
      },
      "execution_count": 79,
      "outputs": [
        {
          "output_type": "stream",
          "name": "stdout",
          "text": [
            "╒═══════════════════════╤═══════════╤═════════════╕\n",
            "│ type of error         │   K-means │   K-medoids │\n",
            "╞═══════════════════════╪═══════════╪═════════════╡\n",
            "│ error in gender       │   8.93907 │     1.67647 │\n",
            "├───────────────────────┼───────────┼─────────────┤\n",
            "│ error in emotions     │   8.93282 │     4.1724  │\n",
            "├───────────────────────┼───────────┼─────────────┤\n",
            "│ error in sentences    │  59.5021  │    59.5021  │\n",
            "├───────────────────────┼───────────┼─────────────┤\n",
            "│ error in participants │  16.8773  │    32.053   │\n",
            "╘═══════════════════════╧═══════════╧═════════════╛\n"
          ]
        }
      ]
    },
    {
      "cell_type": "markdown",
      "source": [
        "calculating Silhoutte score and Calinski Harabaz Index for both methods and all clusters"
      ],
      "metadata": {
        "id": "qq15CdJllk7S"
      }
    },
    {
      "cell_type": "code",
      "source": [
        "cluster_labels_kmeans_1 = kmeans_1.fit_predict(X)\n",
        "silhouette_avg_kmeans_1 = silhouette_score(X, cluster_labels_kmeans_1)\n",
        "calinski_indx_kmeans_1=metrics.calinski_harabasz_score(X, cluster_labels_kmeans_1)\n",
        "cluster_labels_kmedoids_1 = kmedoids_1.fit_predict(X)\n",
        "silhouette_avg_kmedoids_1 = silhouette_score(X, cluster_labels_kmedoids_1)\n",
        "calinski_indx_kmedoids_1=metrics.calinski_harabasz_score(X, cluster_labels_kmedoids_1)\n",
        "\n",
        "cluster_labels_kmeans_2 = kmeans_2.fit_predict(X)\n",
        "silhouette_avg_kmeans_2 = silhouette_score(X, cluster_labels_kmeans_2)\n",
        "calinski_indx_kmeans_2=metrics.calinski_harabasz_score(X, cluster_labels_kmeans_2)\n",
        "cluster_labels_kmedoids_2 = kmedoids_2.fit_predict(X)\n",
        "silhouette_avg_kmedoids_2 = silhouette_score(X, cluster_labels_kmedoids_2)\n",
        "calinski_indx_kmedoids_2=metrics.calinski_harabasz_score(X, cluster_labels_kmedoids_2)\n",
        "\n",
        "cluster_labels_kmeans_3 = kmeans_3.fit_predict(X)\n",
        "silhouette_avg_kmeans_3 = silhouette_score(X, cluster_labels_kmeans_3)\n",
        "calinski_indx_kmeans_3=metrics.calinski_harabasz_score(X, cluster_labels_kmeans_3)\n",
        "cluster_labels_kmedoids_3 = kmedoids_3.fit_predict(X)\n",
        "silhouette_avg_kmedoids_3 = silhouette_score(X, cluster_labels_kmedoids_3)\n",
        "calinski_indx_kmedoids_3=metrics.calinski_harabasz_score(X, cluster_labels_kmedoids_3)\n",
        "\n",
        "cluster_labels_kmeans_4 = kmeans_4.fit_predict(X)\n",
        "silhouette_avg_kmeans_4 = silhouette_score(X, cluster_labels_kmeans_4)\n",
        "calinski_indx_kmeans_4=metrics.calinski_harabasz_score(X, cluster_labels_kmeans_4)\n",
        "cluster_labels_kmedoids_4 = kmedoids_4.fit_predict(X)\n",
        "silhouette_avg_kmedoids_4 = silhouette_score(X, cluster_labels_kmedoids_4)\n",
        "calinski_indx_kmedoids_4=metrics.calinski_harabasz_score(X, cluster_labels_kmedoids_4)"
      ],
      "metadata": {
        "id": "peQegprsajl-"
      },
      "execution_count": 80,
      "outputs": []
    },
    {
      "cell_type": "code",
      "source": [
        "table_2=[['number of clusters','K-means','K-medoids'],\n",
        "       ['n_cluster=2',silhouette_avg_kmeans_1,silhouette_avg_kmedoids_1],\n",
        "       ['n_cluster=4',silhouette_avg_kmeans_2,silhouette_avg_kmedoids_2],\n",
        "       ['n_cluster=10',silhouette_avg_kmeans_3,silhouette_avg_kmedoids_3],\n",
        "       ['n_cluster=total num of participants',silhouette_avg_kmeans_4,silhouette_avg_kmedoids_4]]"
      ],
      "metadata": {
        "id": "xPxSmAx8hfuO"
      },
      "execution_count": 81,
      "outputs": []
    },
    {
      "cell_type": "markdown",
      "source": [
        "Silhoutte score table "
      ],
      "metadata": {
        "id": "YYi4p0KMlylV"
      }
    },
    {
      "cell_type": "code",
      "source": [
        "print(tabulate(table_2, headers='firstrow', tablefmt='fancy_grid'))"
      ],
      "metadata": {
        "colab": {
          "base_uri": "https://localhost:8080/"
        },
        "id": "UHIuTLNviYJB",
        "outputId": "d2bcaada-599c-4d2a-b2fd-5a74f399277e"
      },
      "execution_count": 82,
      "outputs": [
        {
          "output_type": "stream",
          "name": "stdout",
          "text": [
            "╒═════════════════════════════════════╤═══════════╤═════════════╕\n",
            "│ number of clusters                  │   K-means │   K-medoids │\n",
            "╞═════════════════════════════════════╪═══════════╪═════════════╡\n",
            "│ n_cluster=2                         │  0.412599 │   0.403558  │\n",
            "├─────────────────────────────────────┼───────────┼─────────────┤\n",
            "│ n_cluster=4                         │  0.290588 │   0.256881  │\n",
            "├─────────────────────────────────────┼───────────┼─────────────┤\n",
            "│ n_cluster=10                        │  0.235705 │   0.190277  │\n",
            "├─────────────────────────────────────┼───────────┼─────────────┤\n",
            "│ n_cluster=total num of participants │  0.129132 │   0.0722907 │\n",
            "╘═════════════════════════════════════╧═══════════╧═════════════╛\n"
          ]
        }
      ]
    },
    {
      "cell_type": "code",
      "source": [
        "table_3=[['number of clusters','K-means','K-medoids'],\n",
        "       ['n_cluster=2',calinski_indx_kmeans_1,calinski_indx_kmedoids_1],\n",
        "       ['n_cluster=4',calinski_indx_kmeans_2,calinski_indx_kmedoids_2],\n",
        "       ['n_cluster=10',calinski_indx_kmeans_3,calinski_indx_kmedoids_3],\n",
        "       ['n_cluster=total num of participants',calinski_indx_kmeans_4,calinski_indx_kmedoids_4]]"
      ],
      "metadata": {
        "id": "a_IuKGyciZqX"
      },
      "execution_count": 83,
      "outputs": []
    },
    {
      "cell_type": "markdown",
      "source": [
        "Calinski score table"
      ],
      "metadata": {
        "id": "9aHpQCA1l4Cr"
      }
    },
    {
      "cell_type": "code",
      "source": [
        "print(tabulate(table_3, headers='firstrow', tablefmt='fancy_grid'))"
      ],
      "metadata": {
        "colab": {
          "base_uri": "https://localhost:8080/"
        },
        "id": "2IKlPcWvkFgV",
        "outputId": "a2c72431-094d-47ce-9111-d9c56d9eb6e6"
      },
      "execution_count": 84,
      "outputs": [
        {
          "output_type": "stream",
          "name": "stdout",
          "text": [
            "╒═════════════════════════════════════╤═══════════╤═════════════╕\n",
            "│ number of clusters                  │   K-means │   K-medoids │\n",
            "╞═════════════════════════════════════╪═══════════╪═════════════╡\n",
            "│ n_cluster=2                         │  14951.5  │   14804.7   │\n",
            "├─────────────────────────────────────┼───────────┼─────────────┤\n",
            "│ n_cluster=4                         │  12145.2  │   11256.2   │\n",
            "├─────────────────────────────────────┼───────────┼─────────────┤\n",
            "│ n_cluster=10                        │   7892.7  │    6828.08  │\n",
            "├─────────────────────────────────────┼───────────┼─────────────┤\n",
            "│ n_cluster=total num of participants │   1342.58 │     393.878 │\n",
            "╘═════════════════════════════════════╧═══════════╧═════════════╛\n"
          ]
        }
      ]
    },
    {
      "cell_type": "code",
      "source": [
        ""
      ],
      "metadata": {
        "id": "sXL2S88h0pag"
      },
      "execution_count": null,
      "outputs": []
    }
  ]
}